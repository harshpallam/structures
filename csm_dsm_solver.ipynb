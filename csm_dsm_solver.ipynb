{
 "cells": [
  {
   "cell_type": "markdown",
   "metadata": {},
   "source": [
    "# DSM (CSM) -> Harsha Pallam"
   ]
  },
  {
   "cell_type": "code",
   "execution_count": 1,
   "metadata": {},
   "outputs": [],
   "source": [
    "using LinearAlgebra"
   ]
  },
  {
   "cell_type": "markdown",
   "metadata": {},
   "source": [
    "### Declaring Material properties"
   ]
  },
  {
   "cell_type": "code",
   "execution_count": 2,
   "metadata": {},
   "outputs": [
    {
     "data": {
      "text/plain": [
       "5-element Vector{Float64}:\n",
       " -1.5707963267948966\n",
       "  0.0\n",
       " -1.2490457723982544\n",
       " -0.3217505543966422\n",
       "  0.7853981633974483"
      ]
     },
     "metadata": {},
     "output_type": "display_data"
    }
   ],
   "source": [
    "EA1 = 21000000;\n",
    "EA2 = 10000000;\n",
    "\n",
    "EA = [EA1, EA1, EA1, EA1, EA2];     # Extensional_stiffness\n",
    "L = [60, 60, sqrt(45^2 + 15^2), sqrt(45^2 + 15^2), sqrt(2)*45];     # truss_lengths\n",
    "α = [-π/2, 0, -atan(45/15), -atan(15/45), π/4]     #Angles"
   ]
  },
  {
   "cell_type": "markdown",
   "metadata": {},
   "source": [
    "### Problem Data"
   ]
  },
  {
   "cell_type": "code",
   "execution_count": 3,
   "metadata": {},
   "outputs": [
    {
     "data": {
      "text/plain": [
       "4×5 transpose(::Matrix{Int64}) with eltype Int64:\n",
       " 1  3  5  1  3\n",
       " 2  4  6  2  4\n",
       " 3  7  7  5  5\n",
       " 4  8  8  6  6"
      ]
     },
     "metadata": {},
     "output_type": "display_data"
    }
   ],
   "source": [
    "n_ele = 5       #number of elements in the system\n",
    "ID_t = [[1 2 3 4]; [3 4 7 8]; [5 6 7 8]; [1 2 5 6]; [3 4 5 6]]      # Merging DOF from each element together\n",
    "ID = transpose(ID_t)        #ID matrix of the system"
   ]
  },
  {
   "cell_type": "markdown",
   "metadata": {},
   "source": [
    "### Element Stiffness Matrices"
   ]
  },
  {
   "cell_type": "code",
   "execution_count": 4,
   "metadata": {},
   "outputs": [],
   "source": [
    "K_bar = []  # This array stores all element-bar stiffness matrices\n",
    "Q = []  # This array stores all elements rotation matrices\n",
    "k = [[1 0 -1 0]; [0 0 0 0]; [-1 0 1 0]; [0 0 0 0]]      # stiffness matrices\n",
    "\n",
    "for i in 1:n_ele\n",
    "    k_bar = (EA[i] / L[i]) * k\n",
    "    c = cos(α[i])\n",
    "    s = sin(α[i])\n",
    "    q = [[c -s 0 0]; [s c 0 0]; [0 0 c -s]; [0 0 s c]]\n",
    "    push!(K_bar, k_bar)\n",
    "    push!(Q, q)\n",
    "end\n",
    "#Q[2]\n",
    "#K_bar[2]"
   ]
  },
  {
   "cell_type": "code",
   "execution_count": 5,
   "metadata": {},
   "outputs": [
    {
     "data": {
      "text/plain": [
       "4×4 Matrix{Float64}:\n",
       "  350000.0  0.0  -350000.0  0.0\n",
       "       0.0  0.0        0.0  0.0\n",
       " -350000.0  0.0   350000.0  0.0\n",
       "       0.0  0.0        0.0  0.0"
      ]
     },
     "metadata": {},
     "output_type": "display_data"
    }
   ],
   "source": [
    "K_e = []  # This array stores all elements stiffness matrices\n",
    "\n",
    "for i in 1:n_ele\n",
    "    K_i = Q[i] * K_bar[i] * transpose(Q[i])\n",
    "    push!(K_e, K_i)\n",
    "end\n",
    "K_e[2]"
   ]
  },
  {
   "cell_type": "markdown",
   "metadata": {},
   "source": [
    "### Assembly"
   ]
  },
  {
   "cell_type": "code",
   "execution_count": 6,
   "metadata": {},
   "outputs": [
    {
     "data": {
      "text/plain": [
       "8×8 Matrix{Float64}:\n",
       "  398447.0               -1.32816e5    …        0.0              0.0\n",
       "      -1.32816e5          3.94272e5             0.0              0.0\n",
       "      -1.31229e-27        2.14313e-11     -350000.0              0.0\n",
       "       2.14313e-11  -350000.0                   0.0              0.0\n",
       " -398447.0                1.32816e5        -44271.9              1.32816e5\n",
       "       1.32816e5     -44271.9          …        1.32816e5  -398447.0\n",
       "       0.0                0.0                   3.94272e5       -1.32816e5\n",
       "       0.0                0.0                  -1.32816e5   398447.0"
      ]
     },
     "metadata": {},
     "output_type": "display_data"
    }
   ],
   "source": [
    "K = zeros(8, 8)  # Creates an 8x8 matrix filled with zeros\n",
    "\n",
    "#Inserting Elements into Global Matrix\n",
    "for e in 1:n_ele\n",
    "    for i in 1:4\n",
    "        for j in 1:4\n",
    "            K[ID[i, e], ID[j, e]] = K[ID[i, e], ID[j, e]] + K_e[e][i, j]\n",
    "        end\n",
    "    end\n",
    "end\n",
    "K"
   ]
  },
  {
   "cell_type": "code",
   "execution_count": 7,
   "metadata": {},
   "outputs": [
    {
     "name": "stdout",
     "output_type": "stream",
     "text": [
      "Eigenvalues of K:\n",
      "ComplexF64[-4.821488732429417e-11 + 0.0im, 3.1627726547248506e-11 - 1.7672360492848837e-11im, 3.1627726547248506e-11 + 1.7672360492848837e-11im, 178879.806124921 + 0.0im, 529145.0374341672 + 0.0im, 667928.2713592026 + 0.0im, 926051.2583612695 + 0.0im, 1.1831407969420874e6 + 0.0im]\n",
      "Eigenvectors of K:\n",
      "ComplexF64[-0.5223025086320173 + 0.0im 0.18512645346807025 + 0.17776351928096804im 0.18512645346807025 - 0.17776351928096804im -0.25730411597009456 + 0.0im 0.4983656668265534 + 0.0im 0.13626155462568584 + 0.0im 0.24581752181927974 + 0.0im -0.39737057888863114 + 0.0im; 0.1576565679442509 + 0.0im 0.25042608458535603 + 0.265743156880232im 0.25042608458535603 - 0.265743156880232im 0.43093030015067463 + 0.0im 0.16934857401510472 + 0.0im 0.45025533235268544 + 0.0im -0.4007744214531407 + 0.0im 0.2284121198016571 + 0.0im; -0.3688670854748094 + 0.0im 0.35903178288874527 - 0.08797963759926407im 0.35903178288874527 + 0.08797963759926407im 0.25452299038586995 + 0.0im -0.3378300850694456 + 0.0im 0.49567585056124613 + 0.0im 0.4428192418888393 + 0.0im 0.09595526017211352 + 0.0im; 0.15765656794425095 + 0.0im 0.2504260845853559 + 0.26574315688023187im 0.2504260845853559 - 0.26574315688023187im 0.25452299038586973 + 0.0im -0.33783008506944423 + 0.0im -0.49567585056124785 + 0.0im 0.44281924188883853 + 0.0im -0.09595526017211366 + 0.0im; -0.4839436528427154 + 0.0im 0.22860278582323912 + 0.11132773006091003im 0.22860278582323912 - 0.11132773006091003im -0.42814917456644863 + 0.0im -0.3298841557722137 + 0.0im -0.1816820728342466 + 0.0im -0.28786234225497753 + 0.0im 0.5298274385181747 + 0.0im; 0.2727331353121573 + 0.0im 0.38085508165086224 + 0.06643578922005795im 0.38085508165086224 - 0.06643578922005795im -0.42814917456644924 + 0.0im -0.3298841557722147 + 0.0im 0.18168207283424714 + 0.0im -0.28786234225497825 + 0.0im -0.5298274385181742 + 0.0im; -0.3688670854748093 + 0.0im 0.359031782888745 - 0.08797963759926411im 0.359031782888745 + 0.08797963759926411im 0.43093030015067485 + 0.0im 0.1693485740151062 + 0.0im -0.45025533235268517 + 0.0im -0.4007744214531411 + 0.0im -0.228412119801657 + 0.0im; 0.31109199110145896 + 0.0im 0.4243314140060309 - 0.0im 0.4243314140060309 + 0.0im -0.25730411597009567 + 0.0im 0.4983656668265541 + 0.0im -0.13626155462568454 + 0.0im 0.24581752181928032 + 0.0im 0.39737057888863037 + 0.0im]\n"
     ]
    }
   ],
   "source": [
    "# Compute eigenvalues and eigenvectors\n",
    "eig_result = eigen(K)\n",
    "\n",
    "# Extract eigenvalues and eigenvectors from the result\n",
    "eigvals = eig_result.values  # Eigenvalues\n",
    "eigvecs_matrix = eig_result.vectors  # Eigenvectors (matrix)\n",
    "\n",
    "# Display the results\n",
    "println(\"Eigenvalues of K:\")\n",
    "println(eigvals)\n",
    "\n",
    "println(\"Eigenvectors of K:\")\n",
    "println(eigvecs_matrix)"
   ]
  },
  {
   "cell_type": "markdown",
   "metadata": {},
   "source": [
    "### Master Stiffness Equation\n",
    "\n",
    "#### Introducing BC;\n",
    "##### D1 = D2 = D3 = 0"
   ]
  },
  {
   "cell_type": "code",
   "execution_count": 8,
   "metadata": {},
   "outputs": [
    {
     "data": {
      "text/plain": [
       "5-element Vector{Float64}:\n",
       " 0.00038095238095238107\n",
       " 0.0001430405377395025\n",
       " 0.0019349681180605937\n",
       " 0.00019047619047619032\n",
       " 0.002452728837253518"
      ]
     },
     "metadata": {},
     "output_type": "display_data"
    }
   ],
   "source": [
    "K_red = K[4:8, 4:8]\n",
    "F_red = [0, 0, 0, 0, 200]  # Reduced force vector\n",
    "D_red = K_red \\ F_red  # Solve linear system"
   ]
  },
  {
   "cell_type": "markdown",
   "metadata": {},
   "source": [
    "### Support Reactions"
   ]
  },
  {
   "cell_type": "code",
   "execution_count": 9,
   "metadata": {},
   "outputs": [
    {
     "data": {
      "text/plain": [
       "8-element Vector{Float64}:\n",
       " 0.0\n",
       " 0.0\n",
       " 0.0\n",
       " 0.00038095238095238107\n",
       " 0.0001430405377395025\n",
       " 0.0019349681180605937\n",
       " 0.00019047619047619032\n",
       " 0.002452728837253518"
      ]
     },
     "metadata": {},
     "output_type": "display_data"
    }
   ],
   "source": [
    "D = vcat(zeros(3), D_red)"
   ]
  },
  {
   "cell_type": "code",
   "execution_count": 10,
   "metadata": {},
   "outputs": [
    {
     "data": {
      "text/plain": [
       "8-element Vector{Float64}:\n",
       "  200.0000000000001\n",
       " -200.00000000000006\n",
       " -200.0\n",
       "    0.0\n",
       "   -7.105427357601002e-15\n",
       "   -3.907985046680551e-14\n",
       "   -8.526512829121202e-14\n",
       "  200.00000000000009"
      ]
     },
     "metadata": {},
     "output_type": "display_data"
    }
   ],
   "source": [
    "F = K * D"
   ]
  },
  {
   "cell_type": "markdown",
   "metadata": {},
   "source": [
    "### Recovery of member forces"
   ]
  },
  {
   "cell_type": "code",
   "execution_count": 11,
   "metadata": {},
   "outputs": [
    {
     "data": {
      "text/plain": [
       "5-element Vector{Any}:\n",
       " (0.0, 0.0, 0.0, 0.00038095238095238107)\n",
       " (0.0, 0.00038095238095238107, 0.00019047619047619032, 0.002452728837253518)\n",
       " (0.0001430405377395025, 0.0019349681180605937, 0.00019047619047619032, 0.002452728837253518)\n",
       " (0.0, 0.0, 0.0001430405377395025, 0.0019349681180605937)\n",
       " (0.0, 0.00038095238095238107, 0.0001430405377395025, 0.0019349681180605937)"
      ]
     },
     "metadata": {},
     "output_type": "display_data"
    }
   ],
   "source": [
    "d_e = []\n",
    "\n",
    "for i in 1:n_ele\n",
    "    d_i = D[ID[1,i]],D[ID[2,i]],D[ID[3,i]],D[ID[4,i]]\n",
    "    push!(d_e, d_i)\n",
    "end\n",
    "d_e"
   ]
  },
  {
   "cell_type": "code",
   "execution_count": 12,
   "metadata": {},
   "outputs": [
    {
     "data": {
      "text/plain": [
       "5-element Vector{Any}:\n",
       " [0.0, 0.0, -0.00038095238095238107, 2.332660569804483e-20]\n",
       " [0.0, 0.00038095238095238107, 0.00019047619047619032, 0.002452728837253518]\n",
       " [-0.0017904385461651098, 0.0007475908143857368, -0.002266629022355586, 0.0009563225414308066]\n",
       " [0.0, 0.0, -0.0004761904761904764, 0.0018809053255635301]\n",
       " [0.00026937401188058957, 0.0002693740118805896, 0.0014693740118805901, 0.0012670841434402455]"
      ]
     },
     "metadata": {},
     "output_type": "display_data"
    }
   ],
   "source": [
    "d_bar = []  # Initialize empty array to store results\n",
    "\n",
    "for i in 1:n_ele\n",
    "    d_e_vector = collect(d_e[i])  # Convert NTuple{4, Float64} to Vector{Float64}\n",
    "    d_bar_i = transpose(Q[i]) * d_e_vector   # Now multiply matrix with vector\n",
    "    push!(d_bar, d_bar_i)         # Store the result\n",
    "end\n",
    "d_bar"
   ]
  },
  {
   "cell_type": "code",
   "execution_count": 13,
   "metadata": {},
   "outputs": [
    {
     "data": {
      "text/plain": [
       "5-element Vector{Any}:\n",
       " -133.33333333333337\n",
       "   66.66666666666661\n",
       " -210.81851067789205\n",
       " -210.81851067789205\n",
       "  188.56180831641277"
      ]
     },
     "metadata": {},
     "output_type": "display_data"
    }
   ],
   "source": [
    "# Member Forces\n",
    "N = []\n",
    "for i in 1:n_ele\n",
    "    N_i = (EA[i] * (d_bar[i][3] - d_bar[i][1])) / L[i]\n",
    "    push!(N, N_i)\n",
    "end\n",
    "N"
   ]
  }
 ],
 "metadata": {
  "kernelspec": {
   "display_name": "Julia 1.11.1",
   "language": "julia",
   "name": "julia-1.11"
  },
  "language_info": {
   "file_extension": ".jl",
   "mimetype": "application/julia",
   "name": "julia",
   "version": "1.11.1"
  }
 },
 "nbformat": 4,
 "nbformat_minor": 2
}
